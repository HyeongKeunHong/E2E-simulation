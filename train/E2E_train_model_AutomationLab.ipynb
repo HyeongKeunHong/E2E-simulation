{
  "cells": [
    {
      "cell_type": "markdown",
      "metadata": {
        "id": "GomYYVoce0Pn"
      },
      "source": [
        "# Road Follower - Train Model\n",
        "\n",
        "In this notebook we will train a neural network to take an input image, and output a set of x, y values corresponding to a target.\n",
        "\n",
        "We will be using PyTorch deep learning framework to train ResNet18 neural network architecture model for road follower application."
      ]
    },
    {
      "cell_type": "code",
      "execution_count": null,
      "metadata": {
        "id": "DncE7B0ce0Pr"
      },
      "outputs": [],
      "source": [
        "import torch\n",
        "import torch.optim as optim\n",
        "import torch.nn.functional as F\n",
        "import torchvision\n",
        "import torchvision.datasets as datasets\n",
        "import torchvision.models as models\n",
        "import torchvision.transforms as transforms\n",
        "import glob\n",
        "import PIL.Image\n",
        "import os\n",
        "import numpy as np"
      ]
    },
    {
      "cell_type": "markdown",
      "metadata": {
        "id": "n_kmKeJbe0Pt"
      },
      "source": [
        "### Download and extract data\n",
        "\n",
        "Before you start, you should upload the ``road_following_<Date&Time>.zip`` file that you created in the ``data_collection.ipynb`` notebook on the robot.\n",
        "\n",
        "> If you're training on the JetBot you collected data on, you can skip this!\n",
        "\n",
        "You should then extract this dataset by calling the command below:"
      ]
    },
    {
      "cell_type": "markdown",
      "metadata": {
        "id": "rW-BBu5oe0Pu"
      },
      "source": [
        "You should see a folder named ``dataset_all`` appear in the file browser."
      ]
    },
    {
      "cell_type": "markdown",
      "metadata": {
        "id": "kA-kCCKwe0Pu"
      },
      "source": [
        "### Create Dataset Instance\n",
        "\n",
        "Here we create a custom ``torch.utils.data.Dataset`` implementation, which implements the ``__len__`` and ``__getitem__`` functions.  This class\n",
        "is responsible for loading images and parsing the x, y values from the image filenames.  Because we implement the ``torch.utils.data.Dataset`` class,\n",
        "we can use all of the torch data utilities :)\n",
        "\n",
        "We hard coded some transformations (like color jitter) into our dataset.  We made random horizontal flips optional (in case you want to follow a non-symmetric path, like a road\n",
        "where we need to 'stay right').  If it doesn't matter whether your robot follows some convention, you could enable flips to augment the dataset."
      ]
    },
    {
      "cell_type": "code",
      "execution_count": null,
      "metadata": {
        "colab": {
          "base_uri": "https://localhost:8080/"
        },
        "id": "sUjP-Hqqht4I",
        "outputId": "9210c905-e603-4f65-aceb-42963e2fc2c8"
      },
      "outputs": [
        {
          "output_type": "stream",
          "name": "stdout",
          "text": [
            "Drive already mounted at /content/drive; to attempt to forcibly remount, call drive.mount(\"/content/drive\", force_remount=True).\n"
          ]
        }
      ],
      "source": [
        "from google.colab import drive\n",
        "drive.mount('/content/drive')"
      ]
    },
    {
      "cell_type": "code",
      "source": [
        "import re\n",
        "\n",
        "def get_steering(path):\n",
        "    \"\"\"Gets the steering value from the image filename\"\"\"\n",
        "    match = re.search(r'_s(-?\\d+\\.\\d+)', path)\n",
        "    if match:\n",
        "        return float(match.group(1))\n",
        "    else:\n",
        "        raise ValueError(f\"Cannot find steering value in {path}\")\n",
        "\n",
        "\n",
        "def get_left_speed(input_str):\n",
        "    # 정규 표현식을 사용하여 'l' 뒤에 오는 숫자를 찾기\n",
        "    match = re.search(r'l(\\d+)', input_str)\n",
        "\n",
        "    if match:\n",
        "        # 숫자를 추출하여 반환\n",
        "        return int(match.group(1))\n",
        "    else:\n",
        "        # 'l' 다음에 숫자가 없으면 None 반환\n",
        "        return None\n",
        "\n",
        "\n",
        "# 테스트 예시\n",
        "filename1 = 'image_1753187538_s0.00_l100.00_r100.00.png'\n",
        "filename2 = 'image_174305318740_s-1.00_l100.00_r100.00.png'\n",
        "\n",
        "print(get_steering(filename1))  # 출력: 0.0\n",
        "print(get_steering(filename2))  # 출력: -1.0\n",
        "print(get_left_speed(filename1))  # 출력: 0.0\n"
      ],
      "metadata": {
        "colab": {
          "base_uri": "https://localhost:8080/"
        },
        "id": "qn3qMT0IhRzD",
        "outputId": "478ae0d3-2a47-49d1-cca9-5cf3f8b134fc"
      },
      "execution_count": null,
      "outputs": [
        {
          "output_type": "stream",
          "name": "stdout",
          "text": [
            "0.0\n",
            "-1.0\n",
            "100\n"
          ]
        }
      ]
    },
    {
      "cell_type": "code",
      "execution_count": null,
      "metadata": {
        "colab": {
          "base_uri": "https://localhost:8080/"
        },
        "id": "RNq0CeN6e0Pu",
        "outputId": "16b610a9-10a1-412a-ff7d-f2b9ad073b50"
      },
      "outputs": [
        {
          "output_type": "stream",
          "name": "stdout",
          "text": [
            "/content/drive/MyDrive/E2E_simulation/e2e_dataset_simulation\n",
            "['/content/drive/MyDrive/E2E_simulation/e2e_dataset_simulation/image_1743053026328_s0.00_l100.00_r100.00.png', '/content/drive/MyDrive/E2E_simulation/e2e_dataset_simulation/image_1743053027898_s0.00_l100.00_r100.00.png', '/content/drive/MyDrive/E2E_simulation/e2e_dataset_simulation/image_1743053027101_s0.00_l100.00_r100.00.png', '/content/drive/MyDrive/E2E_simulation/e2e_dataset_simulation/image_1743053028429_s0.00_l100.00_r100.00.png', '/content/drive/MyDrive/E2E_simulation/e2e_dataset_simulation/image_1743053028805_s0.00_l100.00_r100.00.png', '/content/drive/MyDrive/E2E_simulation/e2e_dataset_simulation/image_1743053029877_s0.00_l100.00_r100.00.png', '/content/drive/MyDrive/E2E_simulation/e2e_dataset_simulation/image_1743053033574_s-3.00_l100.00_r100.00.png', '/content/drive/MyDrive/E2E_simulation/e2e_dataset_simulation/image_1743053038590_s-2.00_l100.00_r100.00.png', '/content/drive/MyDrive/E2E_simulation/e2e_dataset_simulation/image_1743053042519_s-2.00_l100.00_r100.00.png', '/content/drive/MyDrive/E2E_simulation/e2e_dataset_simulation/image_1743053045631_s0.00_l100.00_r100.00.png', '/content/drive/MyDrive/E2E_simulation/e2e_dataset_simulation/image_1743053048132_s0.00_l100.00_r100.00.png', '/content/drive/MyDrive/E2E_simulation/e2e_dataset_simulation/image_1743053051403_s0.00_l100.00_r100.00.png', '/content/drive/MyDrive/E2E_simulation/e2e_dataset_simulation/image_1743053054709_s0.00_l100.00_r100.00.png', '/content/drive/MyDrive/E2E_simulation/e2e_dataset_simulation/image_1743053058784_s-3.00_l100.00_r100.00.png', '/content/drive/MyDrive/E2E_simulation/e2e_dataset_simulation/image_1743053059518_s-3.00_l100.00_r100.00.png', '/content/drive/MyDrive/E2E_simulation/e2e_dataset_simulation/image_1743053060329_s-3.00_l100.00_r100.00.png', '/content/drive/MyDrive/E2E_simulation/e2e_dataset_simulation/image_1743053062357_s-4.00_l100.00_r100.00.png', '/content/drive/MyDrive/E2E_simulation/e2e_dataset_simulation/image_1743053065963_s0.00_l100.00_r100.00.png', '/content/drive/MyDrive/E2E_simulation/e2e_dataset_simulation/image_1743053068712_s0.00_l100.00_r100.00.png', '/content/drive/MyDrive/E2E_simulation/e2e_dataset_simulation/image_1743053070611_s-2.00_l100.00_r100.00.png', '/content/drive/MyDrive/E2E_simulation/e2e_dataset_simulation/image_1743053073421_s-3.00_l100.00_r100.00.png', '/content/drive/MyDrive/E2E_simulation/e2e_dataset_simulation/image_1743053075786_s-4.00_l100.00_r100.00.png', '/content/drive/MyDrive/E2E_simulation/e2e_dataset_simulation/image_1743053075615_s-4.00_l100.00_r100.00.png', '/content/drive/MyDrive/E2E_simulation/e2e_dataset_simulation/image_1743053075553_s-4.00_l100.00_r100.00.png', '/content/drive/MyDrive/E2E_simulation/e2e_dataset_simulation/image_1743053076546_s-4.00_l100.00_r100.00.png', '/content/drive/MyDrive/E2E_simulation/e2e_dataset_simulation/image_1743053076045_s-4.00_l100.00_r100.00.png', '/content/drive/MyDrive/E2E_simulation/e2e_dataset_simulation/image_1743053079718_s-3.00_l100.00_r100.00.png', '/content/drive/MyDrive/E2E_simulation/e2e_dataset_simulation/image_1743053079197_s-4.00_l100.00_r100.00.png', '/content/drive/MyDrive/E2E_simulation/e2e_dataset_simulation/image_1743053082089_s0.00_l100.00_r100.00.png', '/content/drive/MyDrive/E2E_simulation/e2e_dataset_simulation/image_1743053083905_s2.00_l100.00_r100.00.png', '/content/drive/MyDrive/E2E_simulation/e2e_dataset_simulation/image_1743053086339_s3.00_l100.00_r100.00.png', '/content/drive/MyDrive/E2E_simulation/e2e_dataset_simulation/image_1743053086764_s3.00_l100.00_r100.00.png', '/content/drive/MyDrive/E2E_simulation/e2e_dataset_simulation/image_1743053087767_s2.00_l100.00_r100.00.png', '/content/drive/MyDrive/E2E_simulation/e2e_dataset_simulation/image_1743053087906_s2.00_l100.00_r100.00.png', '/content/drive/MyDrive/E2E_simulation/e2e_dataset_simulation/image_1743053092694_s-3.00_l100.00_r100.00.png', '/content/drive/MyDrive/E2E_simulation/e2e_dataset_simulation/image_1743053095880_s-3.00_l100.00_r100.00.png', '/content/drive/MyDrive/E2E_simulation/e2e_dataset_simulation/image_1743053096088_s-3.00_l100.00_r100.00.png', '/content/drive/MyDrive/E2E_simulation/e2e_dataset_simulation/image_1743053099328_s-3.00_l100.00_r100.00.png', '/content/drive/MyDrive/E2E_simulation/e2e_dataset_simulation/image_1743053099659_s-3.00_l100.00_r100.00.png', '/content/drive/MyDrive/E2E_simulation/e2e_dataset_simulation/image_1743053100157_s-3.00_l100.00_r100.00.png', '/content/drive/MyDrive/E2E_simulation/e2e_dataset_simulation/image_1743053100395_s-3.00_l100.00_r100.00.png', '/content/drive/MyDrive/E2E_simulation/e2e_dataset_simulation/image_1743053101120_s-3.00_l100.00_r100.00.png', '/content/drive/MyDrive/E2E_simulation/e2e_dataset_simulation/image_1743053103321_s-2.00_l100.00_r100.00.png', '/content/drive/MyDrive/E2E_simulation/e2e_dataset_simulation/image_1743053107678_s-1.00_l100.00_r100.00.png', '/content/drive/MyDrive/E2E_simulation/e2e_dataset_simulation/image_1743053108536_s0.00_l100.00_r100.00.png', '/content/drive/MyDrive/E2E_simulation/e2e_dataset_simulation/image_1743053109835_s-1.00_l100.00_r100.00.png', '/content/drive/MyDrive/E2E_simulation/e2e_dataset_simulation/image_1743053113709_s-2.00_l100.00_r100.00.png', '/content/drive/MyDrive/E2E_simulation/e2e_dataset_simulation/image_1743053113085_s-3.00_l100.00_r100.00.png', '/content/drive/MyDrive/E2E_simulation/e2e_dataset_simulation/image_1743053116855_s-3.00_l100.00_r100.00.png', '/content/drive/MyDrive/E2E_simulation/e2e_dataset_simulation/image_1743053120096_s-2.00_l100.00_r100.00.png', '/content/drive/MyDrive/E2E_simulation/e2e_dataset_simulation/image_1743053122367_s-1.00_l100.00_r100.00.png', '/content/drive/MyDrive/E2E_simulation/e2e_dataset_simulation/image_1743053127175_s0.00_l100.00_r100.00.png', '/content/drive/MyDrive/E2E_simulation/e2e_dataset_simulation/image_1743053128536_s0.00_l100.00_r100.00.png', '/content/drive/MyDrive/E2E_simulation/e2e_dataset_simulation/image_1743053133516_s0.00_l100.00_r100.00.png', '/content/drive/MyDrive/E2E_simulation/e2e_dataset_simulation/image_1743053135447_s-2.00_l100.00_r100.00.png', '/content/drive/MyDrive/E2E_simulation/e2e_dataset_simulation/image_1743053136392_s-2.00_l100.00_r100.00.png', '/content/drive/MyDrive/E2E_simulation/e2e_dataset_simulation/image_1743053137345_s-3.00_l100.00_r100.00.png', '/content/drive/MyDrive/E2E_simulation/e2e_dataset_simulation/image_1743053139350_s-3.00_l100.00_r100.00.png', '/content/drive/MyDrive/E2E_simulation/e2e_dataset_simulation/image_1743053140020_s-3.00_l100.00_r100.00.png', '/content/drive/MyDrive/E2E_simulation/e2e_dataset_simulation/image_1743053143335_s-2.00_l100.00_r100.00.png', '/content/drive/MyDrive/E2E_simulation/e2e_dataset_simulation/image_1743053146870_s0.00_l100.00_r100.00.png', '/content/drive/MyDrive/E2E_simulation/e2e_dataset_simulation/image_1743053146409_s0.00_l100.00_r100.00.png', '/content/drive/MyDrive/E2E_simulation/e2e_dataset_simulation/image_1743053146844_s0.00_l100.00_r100.00.png', '/content/drive/MyDrive/E2E_simulation/e2e_dataset_simulation/image_1743053147916_s0.00_l100.00_r100.00.png', '/content/drive/MyDrive/E2E_simulation/e2e_dataset_simulation/image_1743053152040_s-3.00_l100.00_r100.00.png', '/content/drive/MyDrive/E2E_simulation/e2e_dataset_simulation/image_1743053155349_s-4.00_l100.00_r100.00.png', '/content/drive/MyDrive/E2E_simulation/e2e_dataset_simulation/image_1743053160734_s-1.00_l100.00_r100.00.png', '/content/drive/MyDrive/E2E_simulation/e2e_dataset_simulation/image_1743053164706_s2.00_l100.00_r100.00.png', '/content/drive/MyDrive/E2E_simulation/e2e_dataset_simulation/image_1743053164409_s3.00_l100.00_r100.00.png', '/content/drive/MyDrive/E2E_simulation/e2e_dataset_simulation/image_1743053164196_s3.00_l100.00_r100.00.png', '/content/drive/MyDrive/E2E_simulation/e2e_dataset_simulation/image_1743053168680_s0.00_l100.00_r100.00.png', '/content/drive/MyDrive/E2E_simulation/e2e_dataset_simulation/image_1743053169279_s0.00_l100.00_r100.00.png', '/content/drive/MyDrive/E2E_simulation/e2e_dataset_simulation/image_1743053169515_s-1.00_l100.00_r100.00.png', '/content/drive/MyDrive/E2E_simulation/e2e_dataset_simulation/image_1743053178688_s-2.00_l100.00_r100.00.png', '/content/drive/MyDrive/E2E_simulation/e2e_dataset_simulation/image_1743053181126_s-3.00_l100.00_r100.00.png', '/content/drive/MyDrive/E2E_simulation/e2e_dataset_simulation/image_1743053181389_s-3.00_l100.00_r100.00.png', '/content/drive/MyDrive/E2E_simulation/e2e_dataset_simulation/image_1743053182457_s-2.00_l100.00_r100.00.png', '/content/drive/MyDrive/E2E_simulation/e2e_dataset_simulation/image_1743053184964_s0.00_l100.00_r100.00.png', '/content/drive/MyDrive/E2E_simulation/e2e_dataset_simulation/image_1743053186468_s0.00_l100.00_r100.00.png', '/content/drive/MyDrive/E2E_simulation/e2e_dataset_simulation/image_1743053188543_s-1.00_l100.00_r100.00.png']\n"
          ]
        }
      ],
      "source": [
        "import re\n",
        "\n",
        "def get_steering(path):\n",
        "    \"\"\"Gets the steering value from the image filename\"\"\"\n",
        "    match = re.search(r'_s(-?\\d+\\.\\d+)', path)\n",
        "    if match:\n",
        "        return float(match.group(1))\n",
        "    else:\n",
        "        raise ValueError(f\"Cannot find steering value in {path}\")\n",
        "\n",
        "def get_x(path):\n",
        "    \"\"\"Gets the x value from the image filename\"\"\"\n",
        "    return (float(int(path[3:6])) - 112.0) / 112.0\n",
        "\n",
        "def get_y(path):\n",
        "    \"\"\"Gets the y value from the image filename\"\"\"\n",
        "    return (float(int(path[7:10])) - 112.0) / 112.0\n",
        "\n",
        "class XYDataset(torch.utils.data.Dataset):\n",
        "\n",
        "    def __init__(self, directory, random_hflips=False):\n",
        "        print(directory)\n",
        "        self.directory = directory\n",
        "        self.random_hflips = random_hflips\n",
        "        self.image_paths = glob.glob(os.path.join(self.directory, '*.png'))\n",
        "        print(self.image_paths)\n",
        "        self.color_jitter = transforms.ColorJitter(0.3, 0.3, 0.3, 0.3)\n",
        "    def __len__(self):\n",
        "        return len(self.image_paths)\n",
        "\n",
        "    def __getitem__(self, idx):\n",
        "        image_path = self.image_paths[idx]\n",
        "\n",
        "        image = PIL.Image.open(image_path)\n",
        "        # x = float(get_x(os.path.basename(image_path)))\n",
        "        # y = float(get_y(os.path.basename(image_path)))\n",
        "\n",
        "        steering = float(get_steering(os.path.basename(image_path)))\n",
        "        speed = float(get_left_speed(os.path.basename(image_path)))\n",
        "\n",
        "        if float(np.random.rand(1)) > 0.5:\n",
        "            image = transforms.functional.hflip(image)\n",
        "            steering = -steering\n",
        "\n",
        "        image = self.color_jitter(image)\n",
        "        image = transforms.functional.resize(image, (224, 224))\n",
        "        image = transforms.functional.to_tensor(image)\n",
        "        image = image.numpy()[::-1].copy()\n",
        "        image = torch.from_numpy(image)\n",
        "        image = transforms.functional.normalize(image, [0.485, 0.456, 0.406], [0.229, 0.224, 0.225])\n",
        "        return image, torch.tensor([steering, speed]).float()\n",
        "dataset = XYDataset('/content/drive/MyDrive/E2E_simulation/e2e_dataset_simulation', random_hflips=False)"
      ]
    },
    {
      "cell_type": "code",
      "execution_count": null,
      "metadata": {
        "colab": {
          "base_uri": "https://localhost:8080/"
        },
        "id": "ca40Q2dug_GD",
        "outputId": "603628aa-a8a4-4ef4-8602-4345eb5f6c97"
      },
      "outputs": [
        {
          "output_type": "stream",
          "name": "stdout",
          "text": [
            "['/content/drive/MyDrive/E2E_simulation/e2e_dataset_simulation/image_1743053026328_s0.00_l100.00_r100.00.png', '/content/drive/MyDrive/E2E_simulation/e2e_dataset_simulation/image_1743053027898_s0.00_l100.00_r100.00.png', '/content/drive/MyDrive/E2E_simulation/e2e_dataset_simulation/image_1743053027101_s0.00_l100.00_r100.00.png', '/content/drive/MyDrive/E2E_simulation/e2e_dataset_simulation/image_1743053028429_s0.00_l100.00_r100.00.png', '/content/drive/MyDrive/E2E_simulation/e2e_dataset_simulation/image_1743053028805_s0.00_l100.00_r100.00.png', '/content/drive/MyDrive/E2E_simulation/e2e_dataset_simulation/image_1743053029877_s0.00_l100.00_r100.00.png', '/content/drive/MyDrive/E2E_simulation/e2e_dataset_simulation/image_1743053033574_s-3.00_l100.00_r100.00.png', '/content/drive/MyDrive/E2E_simulation/e2e_dataset_simulation/image_1743053038590_s-2.00_l100.00_r100.00.png', '/content/drive/MyDrive/E2E_simulation/e2e_dataset_simulation/image_1743053042519_s-2.00_l100.00_r100.00.png', '/content/drive/MyDrive/E2E_simulation/e2e_dataset_simulation/image_1743053045631_s0.00_l100.00_r100.00.png', '/content/drive/MyDrive/E2E_simulation/e2e_dataset_simulation/image_1743053048132_s0.00_l100.00_r100.00.png', '/content/drive/MyDrive/E2E_simulation/e2e_dataset_simulation/image_1743053051403_s0.00_l100.00_r100.00.png', '/content/drive/MyDrive/E2E_simulation/e2e_dataset_simulation/image_1743053054709_s0.00_l100.00_r100.00.png', '/content/drive/MyDrive/E2E_simulation/e2e_dataset_simulation/image_1743053058784_s-3.00_l100.00_r100.00.png', '/content/drive/MyDrive/E2E_simulation/e2e_dataset_simulation/image_1743053059518_s-3.00_l100.00_r100.00.png', '/content/drive/MyDrive/E2E_simulation/e2e_dataset_simulation/image_1743053060329_s-3.00_l100.00_r100.00.png', '/content/drive/MyDrive/E2E_simulation/e2e_dataset_simulation/image_1743053062357_s-4.00_l100.00_r100.00.png', '/content/drive/MyDrive/E2E_simulation/e2e_dataset_simulation/image_1743053065963_s0.00_l100.00_r100.00.png', '/content/drive/MyDrive/E2E_simulation/e2e_dataset_simulation/image_1743053068712_s0.00_l100.00_r100.00.png', '/content/drive/MyDrive/E2E_simulation/e2e_dataset_simulation/image_1743053070611_s-2.00_l100.00_r100.00.png', '/content/drive/MyDrive/E2E_simulation/e2e_dataset_simulation/image_1743053073421_s-3.00_l100.00_r100.00.png', '/content/drive/MyDrive/E2E_simulation/e2e_dataset_simulation/image_1743053075786_s-4.00_l100.00_r100.00.png', '/content/drive/MyDrive/E2E_simulation/e2e_dataset_simulation/image_1743053075615_s-4.00_l100.00_r100.00.png', '/content/drive/MyDrive/E2E_simulation/e2e_dataset_simulation/image_1743053075553_s-4.00_l100.00_r100.00.png', '/content/drive/MyDrive/E2E_simulation/e2e_dataset_simulation/image_1743053076546_s-4.00_l100.00_r100.00.png', '/content/drive/MyDrive/E2E_simulation/e2e_dataset_simulation/image_1743053076045_s-4.00_l100.00_r100.00.png', '/content/drive/MyDrive/E2E_simulation/e2e_dataset_simulation/image_1743053079718_s-3.00_l100.00_r100.00.png', '/content/drive/MyDrive/E2E_simulation/e2e_dataset_simulation/image_1743053079197_s-4.00_l100.00_r100.00.png', '/content/drive/MyDrive/E2E_simulation/e2e_dataset_simulation/image_1743053082089_s0.00_l100.00_r100.00.png', '/content/drive/MyDrive/E2E_simulation/e2e_dataset_simulation/image_1743053083905_s2.00_l100.00_r100.00.png', '/content/drive/MyDrive/E2E_simulation/e2e_dataset_simulation/image_1743053086339_s3.00_l100.00_r100.00.png', '/content/drive/MyDrive/E2E_simulation/e2e_dataset_simulation/image_1743053086764_s3.00_l100.00_r100.00.png', '/content/drive/MyDrive/E2E_simulation/e2e_dataset_simulation/image_1743053087767_s2.00_l100.00_r100.00.png', '/content/drive/MyDrive/E2E_simulation/e2e_dataset_simulation/image_1743053087906_s2.00_l100.00_r100.00.png', '/content/drive/MyDrive/E2E_simulation/e2e_dataset_simulation/image_1743053092694_s-3.00_l100.00_r100.00.png', '/content/drive/MyDrive/E2E_simulation/e2e_dataset_simulation/image_1743053095880_s-3.00_l100.00_r100.00.png', '/content/drive/MyDrive/E2E_simulation/e2e_dataset_simulation/image_1743053096088_s-3.00_l100.00_r100.00.png', '/content/drive/MyDrive/E2E_simulation/e2e_dataset_simulation/image_1743053099328_s-3.00_l100.00_r100.00.png', '/content/drive/MyDrive/E2E_simulation/e2e_dataset_simulation/image_1743053099659_s-3.00_l100.00_r100.00.png', '/content/drive/MyDrive/E2E_simulation/e2e_dataset_simulation/image_1743053100157_s-3.00_l100.00_r100.00.png', '/content/drive/MyDrive/E2E_simulation/e2e_dataset_simulation/image_1743053100395_s-3.00_l100.00_r100.00.png', '/content/drive/MyDrive/E2E_simulation/e2e_dataset_simulation/image_1743053101120_s-3.00_l100.00_r100.00.png', '/content/drive/MyDrive/E2E_simulation/e2e_dataset_simulation/image_1743053103321_s-2.00_l100.00_r100.00.png', '/content/drive/MyDrive/E2E_simulation/e2e_dataset_simulation/image_1743053107678_s-1.00_l100.00_r100.00.png', '/content/drive/MyDrive/E2E_simulation/e2e_dataset_simulation/image_1743053108536_s0.00_l100.00_r100.00.png', '/content/drive/MyDrive/E2E_simulation/e2e_dataset_simulation/image_1743053109835_s-1.00_l100.00_r100.00.png', '/content/drive/MyDrive/E2E_simulation/e2e_dataset_simulation/image_1743053113709_s-2.00_l100.00_r100.00.png', '/content/drive/MyDrive/E2E_simulation/e2e_dataset_simulation/image_1743053113085_s-3.00_l100.00_r100.00.png', '/content/drive/MyDrive/E2E_simulation/e2e_dataset_simulation/image_1743053116855_s-3.00_l100.00_r100.00.png', '/content/drive/MyDrive/E2E_simulation/e2e_dataset_simulation/image_1743053120096_s-2.00_l100.00_r100.00.png', '/content/drive/MyDrive/E2E_simulation/e2e_dataset_simulation/image_1743053122367_s-1.00_l100.00_r100.00.png', '/content/drive/MyDrive/E2E_simulation/e2e_dataset_simulation/image_1743053127175_s0.00_l100.00_r100.00.png', '/content/drive/MyDrive/E2E_simulation/e2e_dataset_simulation/image_1743053128536_s0.00_l100.00_r100.00.png', '/content/drive/MyDrive/E2E_simulation/e2e_dataset_simulation/image_1743053133516_s0.00_l100.00_r100.00.png', '/content/drive/MyDrive/E2E_simulation/e2e_dataset_simulation/image_1743053135447_s-2.00_l100.00_r100.00.png', '/content/drive/MyDrive/E2E_simulation/e2e_dataset_simulation/image_1743053136392_s-2.00_l100.00_r100.00.png', '/content/drive/MyDrive/E2E_simulation/e2e_dataset_simulation/image_1743053137345_s-3.00_l100.00_r100.00.png', '/content/drive/MyDrive/E2E_simulation/e2e_dataset_simulation/image_1743053139350_s-3.00_l100.00_r100.00.png', '/content/drive/MyDrive/E2E_simulation/e2e_dataset_simulation/image_1743053140020_s-3.00_l100.00_r100.00.png', '/content/drive/MyDrive/E2E_simulation/e2e_dataset_simulation/image_1743053143335_s-2.00_l100.00_r100.00.png', '/content/drive/MyDrive/E2E_simulation/e2e_dataset_simulation/image_1743053146870_s0.00_l100.00_r100.00.png', '/content/drive/MyDrive/E2E_simulation/e2e_dataset_simulation/image_1743053146409_s0.00_l100.00_r100.00.png', '/content/drive/MyDrive/E2E_simulation/e2e_dataset_simulation/image_1743053146844_s0.00_l100.00_r100.00.png', '/content/drive/MyDrive/E2E_simulation/e2e_dataset_simulation/image_1743053147916_s0.00_l100.00_r100.00.png', '/content/drive/MyDrive/E2E_simulation/e2e_dataset_simulation/image_1743053152040_s-3.00_l100.00_r100.00.png', '/content/drive/MyDrive/E2E_simulation/e2e_dataset_simulation/image_1743053155349_s-4.00_l100.00_r100.00.png', '/content/drive/MyDrive/E2E_simulation/e2e_dataset_simulation/image_1743053160734_s-1.00_l100.00_r100.00.png', '/content/drive/MyDrive/E2E_simulation/e2e_dataset_simulation/image_1743053164706_s2.00_l100.00_r100.00.png', '/content/drive/MyDrive/E2E_simulation/e2e_dataset_simulation/image_1743053164409_s3.00_l100.00_r100.00.png', '/content/drive/MyDrive/E2E_simulation/e2e_dataset_simulation/image_1743053164196_s3.00_l100.00_r100.00.png', '/content/drive/MyDrive/E2E_simulation/e2e_dataset_simulation/image_1743053168680_s0.00_l100.00_r100.00.png', '/content/drive/MyDrive/E2E_simulation/e2e_dataset_simulation/image_1743053169279_s0.00_l100.00_r100.00.png', '/content/drive/MyDrive/E2E_simulation/e2e_dataset_simulation/image_1743053169515_s-1.00_l100.00_r100.00.png', '/content/drive/MyDrive/E2E_simulation/e2e_dataset_simulation/image_1743053178688_s-2.00_l100.00_r100.00.png', '/content/drive/MyDrive/E2E_simulation/e2e_dataset_simulation/image_1743053181126_s-3.00_l100.00_r100.00.png', '/content/drive/MyDrive/E2E_simulation/e2e_dataset_simulation/image_1743053181389_s-3.00_l100.00_r100.00.png', '/content/drive/MyDrive/E2E_simulation/e2e_dataset_simulation/image_1743053182457_s-2.00_l100.00_r100.00.png', '/content/drive/MyDrive/E2E_simulation/e2e_dataset_simulation/image_1743053184964_s0.00_l100.00_r100.00.png', '/content/drive/MyDrive/E2E_simulation/e2e_dataset_simulation/image_1743053186468_s0.00_l100.00_r100.00.png', '/content/drive/MyDrive/E2E_simulation/e2e_dataset_simulation/image_1743053188543_s-1.00_l100.00_r100.00.png']\n"
          ]
        }
      ],
      "source": [
        "print(dataset.image_paths)"
      ]
    },
    {
      "cell_type": "markdown",
      "metadata": {
        "id": "TNJb6h7ue0Pv"
      },
      "source": [
        "### Split dataset into train and test sets\n",
        "Once we read dataset, we will split data set in train and test sets. In this example we split train and test a 90%-10%. The test set will be used to verify the accuracy of the model we train."
      ]
    },
    {
      "cell_type": "code",
      "execution_count": null,
      "metadata": {
        "id": "SYIQsXiOe0Pv"
      },
      "outputs": [],
      "source": [
        "test_percent = 0.1\n",
        "num_test = int(test_percent * len(dataset))\n",
        "train_dataset, test_dataset = torch.utils.data.random_split(dataset, [len(dataset) - num_test, num_test])"
      ]
    },
    {
      "cell_type": "markdown",
      "metadata": {
        "id": "zBu6VIQ_e0Pw"
      },
      "source": [
        "### Create data loaders to load data in batches\n",
        "\n",
        "We use ``DataLoader`` class to load data in batches, shuffle data and allow using multi-subprocesses. In this example we use batch size of 64. Batch size will be based on memory available with your GPU and it can impact accuracy of the model."
      ]
    },
    {
      "cell_type": "code",
      "execution_count": null,
      "metadata": {
        "id": "U0NBCTpEe0Px"
      },
      "outputs": [],
      "source": [
        "train_loader = torch.utils.data.DataLoader(\n",
        "    train_dataset,\n",
        "    batch_size=16,\n",
        "    shuffle=True,\n",
        "    num_workers=4\n",
        ")\n",
        "\n",
        "test_loader = torch.utils.data.DataLoader(\n",
        "    test_dataset,\n",
        "    batch_size=16,\n",
        "    shuffle=True,\n",
        "    num_workers=4\n",
        ")"
      ]
    },
    {
      "cell_type": "markdown",
      "metadata": {
        "id": "uF9EsQk0e0Px"
      },
      "source": [
        "### Define Neural Network Model\n",
        "\n",
        "We use ResNet-18 model available on PyTorch TorchVision.\n",
        "\n",
        "In a process called transfer learning, we can repurpose a pre-trained model (trained on millions of images) for a new task that has possibly much less data available.\n",
        "\n",
        "\n",
        "More details on ResNet-18 : https://github.com/pytorch/vision/blob/master/torchvision/models/resnet.py\n",
        "\n",
        "More Details on Transfer Learning: https://www.youtube.com/watch?v=yofjFQddwHE"
      ]
    },
    {
      "cell_type": "code",
      "execution_count": null,
      "metadata": {
        "id": "5L8FArYfe0Py"
      },
      "outputs": [],
      "source": [
        "model = models.resnet18(pretrained=True)"
      ]
    },
    {
      "cell_type": "markdown",
      "metadata": {
        "id": "gC0b2eVXe0Py"
      },
      "source": [
        "ResNet model has fully connect (fc) final layer with 512 as ``in_features`` and we will be training for regression thus ``out_features`` as 1\n",
        "\n",
        "Finally, we transfer our model for execution on the GPU"
      ]
    },
    {
      "cell_type": "code",
      "execution_count": null,
      "metadata": {
        "id": "M1BzxLO9e0Py"
      },
      "outputs": [],
      "source": [
        "model.fc = torch.nn.Linear(512, 2)\n",
        "device = torch.device('cuda')\n",
        "model = model.to(device)"
      ]
    },
    {
      "cell_type": "markdown",
      "metadata": {
        "id": "jc1iksO4e0Py"
      },
      "source": [
        "### Train Regression:\n",
        "\n",
        "We train for 50 epochs and save best model if the loss is reduced."
      ]
    },
    {
      "cell_type": "code",
      "execution_count": null,
      "metadata": {
        "colab": {
          "base_uri": "https://localhost:8080/"
        },
        "id": "BRaHIBGOe0Pz",
        "outputId": "29d84d94-671e-475f-b52e-f8f0b783f297"
      },
      "outputs": [
        {
          "output_type": "stream",
          "name": "stdout",
          "text": [
            "0\n"
          ]
        },
        {
          "output_type": "stream",
          "name": "stderr",
          "text": [
            "<ipython-input-20-093ba4a7622b>:41: DeprecationWarning: Conversion of an array with ndim > 0 to a scalar is deprecated, and will error in future. Ensure you extract a single element from your array before performing this operation. (Deprecated NumPy 1.25.)\n",
            "  if float(np.random.rand(1)) > 0.5:\n",
            "<ipython-input-20-093ba4a7622b>:41: DeprecationWarning: Conversion of an array with ndim > 0 to a scalar is deprecated, and will error in future. Ensure you extract a single element from your array before performing this operation. (Deprecated NumPy 1.25.)\n",
            "  if float(np.random.rand(1)) > 0.5:\n",
            "<ipython-input-20-093ba4a7622b>:41: DeprecationWarning: Conversion of an array with ndim > 0 to a scalar is deprecated, and will error in future. Ensure you extract a single element from your array before performing this operation. (Deprecated NumPy 1.25.)\n",
            "  if float(np.random.rand(1)) > 0.5:\n",
            "<ipython-input-20-093ba4a7622b>:41: DeprecationWarning: Conversion of an array with ndim > 0 to a scalar is deprecated, and will error in future. Ensure you extract a single element from your array before performing this operation. (Deprecated NumPy 1.25.)\n",
            "  if float(np.random.rand(1)) > 0.5:\n",
            "<ipython-input-20-093ba4a7622b>:41: DeprecationWarning: Conversion of an array with ndim > 0 to a scalar is deprecated, and will error in future. Ensure you extract a single element from your array before performing this operation. (Deprecated NumPy 1.25.)\n",
            "  if float(np.random.rand(1)) > 0.5:\n"
          ]
        },
        {
          "output_type": "stream",
          "name": "stdout",
          "text": [
            "4878.136621, 4144.154785\n",
            "1\n"
          ]
        },
        {
          "output_type": "stream",
          "name": "stderr",
          "text": [
            "<ipython-input-20-093ba4a7622b>:41: DeprecationWarning: Conversion of an array with ndim > 0 to a scalar is deprecated, and will error in future. Ensure you extract a single element from your array before performing this operation. (Deprecated NumPy 1.25.)\n",
            "  if float(np.random.rand(1)) > 0.5:\n",
            "<ipython-input-20-093ba4a7622b>:41: DeprecationWarning: Conversion of an array with ndim > 0 to a scalar is deprecated, and will error in future. Ensure you extract a single element from your array before performing this operation. (Deprecated NumPy 1.25.)\n",
            "  if float(np.random.rand(1)) > 0.5:\n",
            "<ipython-input-20-093ba4a7622b>:41: DeprecationWarning: Conversion of an array with ndim > 0 to a scalar is deprecated, and will error in future. Ensure you extract a single element from your array before performing this operation. (Deprecated NumPy 1.25.)\n",
            "  if float(np.random.rand(1)) > 0.5:\n",
            "<ipython-input-20-093ba4a7622b>:41: DeprecationWarning: Conversion of an array with ndim > 0 to a scalar is deprecated, and will error in future. Ensure you extract a single element from your array before performing this operation. (Deprecated NumPy 1.25.)\n",
            "  if float(np.random.rand(1)) > 0.5:\n",
            "<ipython-input-20-093ba4a7622b>:41: DeprecationWarning: Conversion of an array with ndim > 0 to a scalar is deprecated, and will error in future. Ensure you extract a single element from your array before performing this operation. (Deprecated NumPy 1.25.)\n",
            "  if float(np.random.rand(1)) > 0.5:\n"
          ]
        },
        {
          "output_type": "stream",
          "name": "stdout",
          "text": [
            "4482.550879, 3367.005127\n",
            "2\n"
          ]
        },
        {
          "output_type": "stream",
          "name": "stderr",
          "text": [
            "<ipython-input-20-093ba4a7622b>:41: DeprecationWarning: Conversion of an array with ndim > 0 to a scalar is deprecated, and will error in future. Ensure you extract a single element from your array before performing this operation. (Deprecated NumPy 1.25.)\n",
            "  if float(np.random.rand(1)) > 0.5:\n",
            "<ipython-input-20-093ba4a7622b>:41: DeprecationWarning: Conversion of an array with ndim > 0 to a scalar is deprecated, and will error in future. Ensure you extract a single element from your array before performing this operation. (Deprecated NumPy 1.25.)\n",
            "  if float(np.random.rand(1)) > 0.5:\n",
            "<ipython-input-20-093ba4a7622b>:41: DeprecationWarning: Conversion of an array with ndim > 0 to a scalar is deprecated, and will error in future. Ensure you extract a single element from your array before performing this operation. (Deprecated NumPy 1.25.)\n",
            "  if float(np.random.rand(1)) > 0.5:\n",
            "<ipython-input-20-093ba4a7622b>:41: DeprecationWarning: Conversion of an array with ndim > 0 to a scalar is deprecated, and will error in future. Ensure you extract a single element from your array before performing this operation. (Deprecated NumPy 1.25.)\n",
            "  if float(np.random.rand(1)) > 0.5:\n",
            "<ipython-input-20-093ba4a7622b>:41: DeprecationWarning: Conversion of an array with ndim > 0 to a scalar is deprecated, and will error in future. Ensure you extract a single element from your array before performing this operation. (Deprecated NumPy 1.25.)\n",
            "  if float(np.random.rand(1)) > 0.5:\n"
          ]
        },
        {
          "output_type": "stream",
          "name": "stdout",
          "text": [
            "4164.589551, 3218.249023\n",
            "3\n"
          ]
        },
        {
          "output_type": "stream",
          "name": "stderr",
          "text": [
            "<ipython-input-20-093ba4a7622b>:41: DeprecationWarning: Conversion of an array with ndim > 0 to a scalar is deprecated, and will error in future. Ensure you extract a single element from your array before performing this operation. (Deprecated NumPy 1.25.)\n",
            "  if float(np.random.rand(1)) > 0.5:\n",
            "<ipython-input-20-093ba4a7622b>:41: DeprecationWarning: Conversion of an array with ndim > 0 to a scalar is deprecated, and will error in future. Ensure you extract a single element from your array before performing this operation. (Deprecated NumPy 1.25.)\n",
            "  if float(np.random.rand(1)) > 0.5:\n",
            "<ipython-input-20-093ba4a7622b>:41: DeprecationWarning: Conversion of an array with ndim > 0 to a scalar is deprecated, and will error in future. Ensure you extract a single element from your array before performing this operation. (Deprecated NumPy 1.25.)\n",
            "  if float(np.random.rand(1)) > 0.5:\n",
            "<ipython-input-20-093ba4a7622b>:41: DeprecationWarning: Conversion of an array with ndim > 0 to a scalar is deprecated, and will error in future. Ensure you extract a single element from your array before performing this operation. (Deprecated NumPy 1.25.)\n",
            "  if float(np.random.rand(1)) > 0.5:\n",
            "<ipython-input-20-093ba4a7622b>:41: DeprecationWarning: Conversion of an array with ndim > 0 to a scalar is deprecated, and will error in future. Ensure you extract a single element from your array before performing this operation. (Deprecated NumPy 1.25.)\n",
            "  if float(np.random.rand(1)) > 0.5:\n"
          ]
        },
        {
          "output_type": "stream",
          "name": "stdout",
          "text": [
            "3890.247998, 3018.075195\n",
            "4\n"
          ]
        },
        {
          "output_type": "stream",
          "name": "stderr",
          "text": [
            "<ipython-input-20-093ba4a7622b>:41: DeprecationWarning: Conversion of an array with ndim > 0 to a scalar is deprecated, and will error in future. Ensure you extract a single element from your array before performing this operation. (Deprecated NumPy 1.25.)\n",
            "  if float(np.random.rand(1)) > 0.5:\n",
            "<ipython-input-20-093ba4a7622b>:41: DeprecationWarning: Conversion of an array with ndim > 0 to a scalar is deprecated, and will error in future. Ensure you extract a single element from your array before performing this operation. (Deprecated NumPy 1.25.)\n",
            "  if float(np.random.rand(1)) > 0.5:\n",
            "<ipython-input-20-093ba4a7622b>:41: DeprecationWarning: Conversion of an array with ndim > 0 to a scalar is deprecated, and will error in future. Ensure you extract a single element from your array before performing this operation. (Deprecated NumPy 1.25.)\n",
            "  if float(np.random.rand(1)) > 0.5:\n",
            "<ipython-input-20-093ba4a7622b>:41: DeprecationWarning: Conversion of an array with ndim > 0 to a scalar is deprecated, and will error in future. Ensure you extract a single element from your array before performing this operation. (Deprecated NumPy 1.25.)\n",
            "  if float(np.random.rand(1)) > 0.5:\n",
            "<ipython-input-20-093ba4a7622b>:41: DeprecationWarning: Conversion of an array with ndim > 0 to a scalar is deprecated, and will error in future. Ensure you extract a single element from your array before performing this operation. (Deprecated NumPy 1.25.)\n",
            "  if float(np.random.rand(1)) > 0.5:\n"
          ]
        },
        {
          "output_type": "stream",
          "name": "stdout",
          "text": [
            "3630.897949, 2966.273682\n",
            "5\n"
          ]
        },
        {
          "output_type": "stream",
          "name": "stderr",
          "text": [
            "<ipython-input-20-093ba4a7622b>:41: DeprecationWarning: Conversion of an array with ndim > 0 to a scalar is deprecated, and will error in future. Ensure you extract a single element from your array before performing this operation. (Deprecated NumPy 1.25.)\n",
            "  if float(np.random.rand(1)) > 0.5:\n",
            "<ipython-input-20-093ba4a7622b>:41: DeprecationWarning: Conversion of an array with ndim > 0 to a scalar is deprecated, and will error in future. Ensure you extract a single element from your array before performing this operation. (Deprecated NumPy 1.25.)\n",
            "  if float(np.random.rand(1)) > 0.5:\n",
            "<ipython-input-20-093ba4a7622b>:41: DeprecationWarning: Conversion of an array with ndim > 0 to a scalar is deprecated, and will error in future. Ensure you extract a single element from your array before performing this operation. (Deprecated NumPy 1.25.)\n",
            "  if float(np.random.rand(1)) > 0.5:\n",
            "<ipython-input-20-093ba4a7622b>:41: DeprecationWarning: Conversion of an array with ndim > 0 to a scalar is deprecated, and will error in future. Ensure you extract a single element from your array before performing this operation. (Deprecated NumPy 1.25.)\n",
            "  if float(np.random.rand(1)) > 0.5:\n",
            "<ipython-input-20-093ba4a7622b>:41: DeprecationWarning: Conversion of an array with ndim > 0 to a scalar is deprecated, and will error in future. Ensure you extract a single element from your array before performing this operation. (Deprecated NumPy 1.25.)\n",
            "  if float(np.random.rand(1)) > 0.5:\n"
          ]
        },
        {
          "output_type": "stream",
          "name": "stdout",
          "text": [
            "3380.423486, 2828.076172\n",
            "6\n"
          ]
        },
        {
          "output_type": "stream",
          "name": "stderr",
          "text": [
            "<ipython-input-20-093ba4a7622b>:41: DeprecationWarning: Conversion of an array with ndim > 0 to a scalar is deprecated, and will error in future. Ensure you extract a single element from your array before performing this operation. (Deprecated NumPy 1.25.)\n",
            "  if float(np.random.rand(1)) > 0.5:\n",
            "<ipython-input-20-093ba4a7622b>:41: DeprecationWarning: Conversion of an array with ndim > 0 to a scalar is deprecated, and will error in future. Ensure you extract a single element from your array before performing this operation. (Deprecated NumPy 1.25.)\n",
            "  if float(np.random.rand(1)) > 0.5:\n",
            "<ipython-input-20-093ba4a7622b>:41: DeprecationWarning: Conversion of an array with ndim > 0 to a scalar is deprecated, and will error in future. Ensure you extract a single element from your array before performing this operation. (Deprecated NumPy 1.25.)\n",
            "  if float(np.random.rand(1)) > 0.5:\n",
            "<ipython-input-20-093ba4a7622b>:41: DeprecationWarning: Conversion of an array with ndim > 0 to a scalar is deprecated, and will error in future. Ensure you extract a single element from your array before performing this operation. (Deprecated NumPy 1.25.)\n",
            "  if float(np.random.rand(1)) > 0.5:\n",
            "<ipython-input-20-093ba4a7622b>:41: DeprecationWarning: Conversion of an array with ndim > 0 to a scalar is deprecated, and will error in future. Ensure you extract a single element from your array before performing this operation. (Deprecated NumPy 1.25.)\n",
            "  if float(np.random.rand(1)) > 0.5:\n"
          ]
        },
        {
          "output_type": "stream",
          "name": "stdout",
          "text": [
            "3138.145654, 2687.396973\n",
            "7\n"
          ]
        },
        {
          "output_type": "stream",
          "name": "stderr",
          "text": [
            "<ipython-input-20-093ba4a7622b>:41: DeprecationWarning: Conversion of an array with ndim > 0 to a scalar is deprecated, and will error in future. Ensure you extract a single element from your array before performing this operation. (Deprecated NumPy 1.25.)\n",
            "  if float(np.random.rand(1)) > 0.5:\n",
            "<ipython-input-20-093ba4a7622b>:41: DeprecationWarning: Conversion of an array with ndim > 0 to a scalar is deprecated, and will error in future. Ensure you extract a single element from your array before performing this operation. (Deprecated NumPy 1.25.)\n",
            "  if float(np.random.rand(1)) > 0.5:\n",
            "<ipython-input-20-093ba4a7622b>:41: DeprecationWarning: Conversion of an array with ndim > 0 to a scalar is deprecated, and will error in future. Ensure you extract a single element from your array before performing this operation. (Deprecated NumPy 1.25.)\n",
            "  if float(np.random.rand(1)) > 0.5:\n",
            "<ipython-input-20-093ba4a7622b>:41: DeprecationWarning: Conversion of an array with ndim > 0 to a scalar is deprecated, and will error in future. Ensure you extract a single element from your array before performing this operation. (Deprecated NumPy 1.25.)\n",
            "  if float(np.random.rand(1)) > 0.5:\n",
            "<ipython-input-20-093ba4a7622b>:41: DeprecationWarning: Conversion of an array with ndim > 0 to a scalar is deprecated, and will error in future. Ensure you extract a single element from your array before performing this operation. (Deprecated NumPy 1.25.)\n",
            "  if float(np.random.rand(1)) > 0.5:\n"
          ]
        },
        {
          "output_type": "stream",
          "name": "stdout",
          "text": [
            "2893.468799, 2562.715820\n",
            "8\n"
          ]
        },
        {
          "output_type": "stream",
          "name": "stderr",
          "text": [
            "<ipython-input-20-093ba4a7622b>:41: DeprecationWarning: Conversion of an array with ndim > 0 to a scalar is deprecated, and will error in future. Ensure you extract a single element from your array before performing this operation. (Deprecated NumPy 1.25.)\n",
            "  if float(np.random.rand(1)) > 0.5:\n",
            "<ipython-input-20-093ba4a7622b>:41: DeprecationWarning: Conversion of an array with ndim > 0 to a scalar is deprecated, and will error in future. Ensure you extract a single element from your array before performing this operation. (Deprecated NumPy 1.25.)\n",
            "  if float(np.random.rand(1)) > 0.5:\n",
            "<ipython-input-20-093ba4a7622b>:41: DeprecationWarning: Conversion of an array with ndim > 0 to a scalar is deprecated, and will error in future. Ensure you extract a single element from your array before performing this operation. (Deprecated NumPy 1.25.)\n",
            "  if float(np.random.rand(1)) > 0.5:\n",
            "<ipython-input-20-093ba4a7622b>:41: DeprecationWarning: Conversion of an array with ndim > 0 to a scalar is deprecated, and will error in future. Ensure you extract a single element from your array before performing this operation. (Deprecated NumPy 1.25.)\n",
            "  if float(np.random.rand(1)) > 0.5:\n",
            "<ipython-input-20-093ba4a7622b>:41: DeprecationWarning: Conversion of an array with ndim > 0 to a scalar is deprecated, and will error in future. Ensure you extract a single element from your array before performing this operation. (Deprecated NumPy 1.25.)\n",
            "  if float(np.random.rand(1)) > 0.5:\n"
          ]
        },
        {
          "output_type": "stream",
          "name": "stdout",
          "text": [
            "2647.593213, 2500.679932\n",
            "9\n"
          ]
        },
        {
          "output_type": "stream",
          "name": "stderr",
          "text": [
            "<ipython-input-20-093ba4a7622b>:41: DeprecationWarning: Conversion of an array with ndim > 0 to a scalar is deprecated, and will error in future. Ensure you extract a single element from your array before performing this operation. (Deprecated NumPy 1.25.)\n",
            "  if float(np.random.rand(1)) > 0.5:\n",
            "<ipython-input-20-093ba4a7622b>:41: DeprecationWarning: Conversion of an array with ndim > 0 to a scalar is deprecated, and will error in future. Ensure you extract a single element from your array before performing this operation. (Deprecated NumPy 1.25.)\n",
            "  if float(np.random.rand(1)) > 0.5:\n",
            "<ipython-input-20-093ba4a7622b>:41: DeprecationWarning: Conversion of an array with ndim > 0 to a scalar is deprecated, and will error in future. Ensure you extract a single element from your array before performing this operation. (Deprecated NumPy 1.25.)\n",
            "  if float(np.random.rand(1)) > 0.5:\n",
            "<ipython-input-20-093ba4a7622b>:41: DeprecationWarning: Conversion of an array with ndim > 0 to a scalar is deprecated, and will error in future. Ensure you extract a single element from your array before performing this operation. (Deprecated NumPy 1.25.)\n",
            "  if float(np.random.rand(1)) > 0.5:\n",
            "<ipython-input-20-093ba4a7622b>:41: DeprecationWarning: Conversion of an array with ndim > 0 to a scalar is deprecated, and will error in future. Ensure you extract a single element from your array before performing this operation. (Deprecated NumPy 1.25.)\n",
            "  if float(np.random.rand(1)) > 0.5:\n"
          ]
        },
        {
          "output_type": "stream",
          "name": "stdout",
          "text": [
            "2403.867529, 2257.664062\n"
          ]
        }
      ],
      "source": [
        "NUM_EPOCHS = 10\n",
        "BEST_MODEL_PATH = 'best_steering_model_250603_v2.pth'\n",
        "best_loss = 1e9\n",
        "\n",
        "optimizer = optim.Adam(model.parameters())\n",
        "\n",
        "for epoch in range(NUM_EPOCHS):\n",
        "    print(epoch)\n",
        "    model.train()\n",
        "    train_loss = 0.0\n",
        "    for images, labels in iter(train_loader):\n",
        "        images = images.to(device)\n",
        "        labels = labels.to(device)\n",
        "        optimizer.zero_grad()\n",
        "        outputs = model(images)\n",
        "        loss = F.mse_loss(outputs, labels)\n",
        "        train_loss += float(loss)\n",
        "        loss.backward()\n",
        "        optimizer.step()\n",
        "    train_loss /= len(train_loader)\n",
        "\n",
        "    model.eval()\n",
        "    test_loss = 0.0\n",
        "    for images, labels in iter(test_loader):\n",
        "        images = images.to(device)\n",
        "        labels = labels.to(device)\n",
        "        outputs = model(images)\n",
        "        loss = F.mse_loss(outputs, labels)\n",
        "        test_loss += float(loss)\n",
        "    test_loss /= len(test_loader)\n",
        "\n",
        "    print('%f, %f' % (train_loss, test_loss))\n",
        "    if test_loss < best_loss:\n",
        "        torch.save(model.state_dict(), BEST_MODEL_PATH)\n",
        "        best_loss = test_loss\n",
        "torch.save(model.state_dict(), '/content/drive/MyDrive/E2E_simulation/model_250603_v2.pt')\n"
      ]
    },
    {
      "cell_type": "code",
      "execution_count": null,
      "metadata": {
        "id": "fwQmnymzye-X"
      },
      "outputs": [],
      "source": [
        "torch.save(model, '/content/drive/MyDrive/E2E_simulation/model_250405')"
      ]
    },
    {
      "cell_type": "code",
      "execution_count": null,
      "metadata": {
        "id": "JpOOS7uXQGyp"
      },
      "outputs": [],
      "source": [
        "torch.save(model.state_dict(), \"/content/drive/MyDrive/driving_capstone_design/code/model_red_temp_250322.pt\")"
      ]
    },
    {
      "cell_type": "code",
      "source": [],
      "metadata": {
        "id": "3zAPCpU0J4DL"
      },
      "execution_count": null,
      "outputs": []
    },
    {
      "cell_type": "markdown",
      "metadata": {
        "id": "6Tb4K7SCe0Pz"
      },
      "source": [
        "Once the model is trained, it will generate ``best_steering_model_xy.pth`` file which you can use for inferencing in the live demo notebook.\n",
        "\n",
        "If you trained on a different machine other than JetBot, you'll need to upload this to the JetBot to the ``road_following`` example folder."
      ]
    }
  ],
  "metadata": {
    "accelerator": "GPU",
    "colab": {
      "provenance": []
    },
    "gpuClass": "standard",
    "kernelspec": {
      "display_name": "Python 3",
      "language": "python",
      "name": "python3"
    },
    "language_info": {
      "codemirror_mode": {
        "name": "ipython",
        "version": 3
      },
      "file_extension": ".py",
      "mimetype": "text/x-python",
      "name": "python",
      "nbconvert_exporter": "python",
      "pygments_lexer": "ipython3",
      "version": "3.8.8"
    }
  },
  "nbformat": 4,
  "nbformat_minor": 0
}